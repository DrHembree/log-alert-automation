{
 "cells": [
  {
   "cell_type": "markdown",
   "metadata": {},
   "source": [
    "# Log Analysis: Exploration Notebook\n",
    "\n",
    "Use this notebook to explore generated CSV/JSON outputs from `src/log_analyzer.py`."
   ]
  },
  {
   "cell_type": "code",
   "execution_count": 1,
   "metadata": {},
   "outputs": [],
   "source": [
    "# === Imports ===\n",
    "import pandas as pd\n",
    "from pathlib import Path\n"
   ]
  },
  {
   "cell_type": "code",
   "execution_count": 2,
   "metadata": {},
   "outputs": [
    {
     "data": {
      "text/plain": [
       "([PosixPath('../reports/report_20251014_194353_alerts.csv'),\n",
       "  PosixPath('../reports/report_20251014_195006_alerts.csv')],\n",
       " [PosixPath('../reports/report_20251014_194353_events.csv'),\n",
       "  PosixPath('../reports/report_20251014_195006_events.csv')])"
      ]
     },
     "execution_count": 2,
     "metadata": {},
     "output_type": "execute_result"
    }
   ],
   "source": [
    "# === Locate report files ===\n",
    "reports = Path(\"../reports\")\n",
    "\n",
    "alerts_files = sorted(reports.glob(\"*_alerts.csv\"))\n",
    "events_files = sorted(reports.glob(\"*_events.csv\"))\n",
    "\n",
    "alerts_files, events_files\n"
   ]
  },
  {
   "cell_type": "code",
   "execution_count": 3,
   "metadata": {},
   "outputs": [
    {
     "data": {
      "text/plain": [
       "(   count           rule                start  \\\n",
       " 0      4  failed_logins  2025-10-14T12:01:10   \n",
       " 1      3  failed_logins  2025-10-14T12:01:12   \n",
       " 2      3         errors  2025-10-14T12:03:45   \n",
       " \n",
       "                                         unique_ips  window_sec  \n",
       " 0  ['192.0.2.45', '198.51.100.33', '203.0.113.10']         300  \n",
       " 1                ['198.51.100.33', '203.0.113.10']         300  \n",
       " 2                                              NaN         300  ,\n",
       "               ip                          msg                   ts   user\n",
       " 0     192.0.2.45                          NaN  2025-10-14T12:01:10  admin\n",
       " 1   203.0.113.10                          NaN  2025-10-14T12:01:12   root\n",
       " 2   203.0.113.10                          NaN  2025-10-14T12:01:15   root\n",
       " 3  198.51.100.33                          NaN  2025-10-14T12:03:10  guest\n",
       " 4            NaN  database connection timeout  2025-10-14T12:03:45    NaN)"
      ]
     },
     "execution_count": 3,
     "metadata": {},
     "output_type": "execute_result"
    }
   ],
   "source": [
    "# === Load latest CSVs into DataFrames ===\n",
    "df_alerts = pd.read_csv(alerts_files[-1]) if alerts_files else pd.DataFrame()\n",
    "df_events = pd.read_csv(events_files[-1]) if events_files else pd.DataFrame()\n",
    "\n",
    "df_alerts.head(), df_events.head()\n"
   ]
  },
  {
   "cell_type": "code",
   "execution_count": 4,
   "metadata": {},
   "outputs": [
    {
     "data": {
      "image/png": "[encoded data removed]",
      "text/plain": [
       "<Figure size 640x480 with 1 Axes>"
      ]
     },
     "metadata": {},
     "output_type": "display_data"
    }
   ],
   "source": [
    "# === Visualize number of alerts by rule type ===\n",
    "import matplotlib.pyplot as plt\n",
    "\n",
    "if not df_alerts.empty:\n",
    "    counts = df_alerts[\"rule\"].value_counts()\n",
    "    counts.plot(kind=\"bar\")\n",
    "    plt.title(\"Alerts by Rule\")\n",
    "    plt.xlabel(\"Rule\")\n",
    "    plt.ylabel(\"Count\")\n",
    "    plt.show()\n",
    "else:\n",
    "    print(\"No alerts in latest run.\")\n"
   ]
  },
  {
   "cell_type": "code",
   "execution_count": null,
   "metadata": {},
   "outputs": [],
   "source": [
    "import pandas as pd, matplotlib.pyplot as plt\n",
    "if not df_alerts.empty:\n",
    "    ts = pd.to_datetime(df_alerts['start'])\n",
    "    hourly = ts.dt.floor('H').value_counts().sort_index()\n",
    "    hourly.plot(kind='line')\n",
    "    plt.title('Alerts per Hour')\n",
    "    plt.xlabel('Hour')\n",
    "    plt.ylabel('Count')\n",
    "    plt.show()\n",
    "else:\n",
    "    print('No alerts to plot by time.')"
   ]
  },
  {
   "cell_type": "code",
   "execution_count": null,
   "metadata": {},
   "outputs": [],
   "source": [
    "if not df_events.empty and 'ip' in df_events.columns:\n",
    "    top = df_events['ip'].value_counts().head(10)\n",
    "    top.plot(kind='bar')\n",
    "    plt.title('Top IPs in Events')\n",
    "    plt.xlabel('IP')\n",
    "    plt.ylabel('Count')\n",
    "    plt.show()\n",
    "else:\n",
    "    print('No IP data available in events.')\n"
   ]
  }
 ],
 "metadata": {
  "kernelspec": {
   "display_name": "Python 3 (ipykernel)",
   "language": "python",
   "name": "python3"
  },
  "language_info": {
   "codemirror_mode": {
    "name": "ipython",
    "version": 3
   },
   "file_extension": ".py",
   "mimetype": "text/x-python",
   "name": "python",
   "nbconvert_exporter": "python",
   "pygments_lexer": "ipython3",
   "version": "3.13.8"
  }
 },
 "nbformat": 4,
 "nbformat_minor": 4
}
